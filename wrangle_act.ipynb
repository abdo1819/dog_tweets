{
 "cells": [
  {
   "cell_type": "code",
   "execution_count": 1,
   "metadata": {},
   "outputs": [],
   "source": [
    "import pandas as pd\n",
    "import numpy as np\n",
    "import requests\n",
    "import tweepy\n",
    "import json\n",
    "\n",
    "import time"
   ]
  },
  {
   "cell_type": "markdown",
   "metadata": {},
   "source": [
    "# data gathering\n",
    "* read from `twitter-archive-enhanced.csv`\n",
    "* download `image_predictions.tsv`\n",
    "\n",
    "* use tweepy to load\n",
    "    - retweet count\n",
    "    - like count\n",
    "    - ...\n",
    "* save tweater data to `tweet_json.txt` and load them as df"
   ]
  },
  {
   "cell_type": "markdown",
   "metadata": {},
   "source": [
    "#### read from `twitter-archive-enhanced.csv`"
   ]
  },
  {
   "cell_type": "code",
   "execution_count": 2,
   "metadata": {},
   "outputs": [],
   "source": [
    "tweater_acrchive = pd.read_csv('twitter-archive-enhanced.csv')"
   ]
  },
  {
   "cell_type": "markdown",
   "metadata": {},
   "source": [
    "#### download `image_predictions.tsv`"
   ]
  },
  {
   "cell_type": "code",
   "execution_count": 3,
   "metadata": {},
   "outputs": [],
   "source": [
    "response = requests.get('https://d17h27t6h515a5.cloudfront.net/topher/2017/August/599fd2ad_image-predictions/image-predictions.tsv')"
   ]
  },
  {
   "cell_type": "code",
   "execution_count": 4,
   "metadata": {},
   "outputs": [],
   "source": [
    "with open('image_predictions.tsv','wb') as file:\n",
    "    file.write(response.content)\n",
    "\n",
    "image_predictions = pd.read_csv('image_predictions.tsv',sep='\\t')"
   ]
  },
  {
   "cell_type": "markdown",
   "metadata": {},
   "source": [
    "* use tweepy to load\n",
    "    - retweet count\n",
    "    - like count\n",
    "    - ...\n"
   ]
  },
  {
   "cell_type": "code",
   "execution_count": 6,
   "metadata": {},
   "outputs": [],
   "source": [
    "# consumer_key = 'YOUR CONSUMER KEY'\n",
    "# consumer_secret = 'YOUR CONSUMER SECRET'\n",
    "# access_token = 'YOUR ACCESS TOKEN'\n",
    "# access_secret = 'YOUR ACCESS SECRET'\n",
    "\n",
    "# auth = tweepy.OAuthHandler(consumer_key, consumer_secret)\n",
    "# auth.set_access_token(access_token, access_secret)\n",
    "\n",
    "## http://docs.tweepy.org/en/v3.2.0/api.html#API\n",
    "\n",
    "# api = tweepy.API(auth, wait_on_rate_limit=True, wait_on_rate_limit_notify=True)"
   ]
  },
  {
   "cell_type": "markdown",
   "metadata": {},
   "source": [
    "- https://tweepy.readthedocs.io/en/latest/api.html#API.get_status\n",
    "- http://docs.tweepy.org/en/latest/extended_tweets.html?highlight=tweet_mode#extended-mode\n",
    "- http://docs.tweepy.org/en/latest/extended_tweets.html?highlight=tweet_mode#examples"
   ]
  },
  {
   "cell_type": "code",
   "execution_count": 7,
   "metadata": {},
   "outputs": [],
   "source": [
    "# for tweet_id in tweater_acrchive.tweet_id:\n",
    "#     tweet = api.get_status(tweet_id, tweet_mode='extended')\n",
    "#     print(tweet.text)\n",
    "#     break"
   ]
  },
  {
   "cell_type": "markdown",
   "metadata": {},
   "source": [
    "* save tweater data to `tweet-json.txt` \n",
    "* convert data to dict then to df"
   ]
  },
  {
   "cell_type": "code",
   "execution_count": 8,
   "metadata": {},
   "outputs": [],
   "source": [
    "## https://stackabuse.com/reading-and-writing-json-to-a-file-in-python/\n",
    "# with open(tweet-json.txt,'wb') as file:\n",
    "#     json.dump()"
   ]
  },
  {
   "cell_type": "code",
   "execution_count": 7,
   "metadata": {},
   "outputs": [],
   "source": [
    "## temporary\n",
    "rows = []\n",
    "with open('tweet-json.txt','r') as json_file:\n",
    "    for line in json_file.readlines():\n",
    "        data = json.loads(line)\n",
    "        data['favorite_count']\n",
    "        \n",
    "        rows.append({'tweet_id': data['id'],\n",
    "                     'retweet_count':  data['retweet_count'],\n",
    "                     'favorite_count': data['favorite_count'],\n",
    "                     'hashtags': data['entities']['hashtags']})"
   ]
  },
  {
   "cell_type": "code",
   "execution_count": 8,
   "metadata": {},
   "outputs": [],
   "source": [
    "tweeter_extra = pd.DataFrame(rows)"
   ]
  },
  {
   "cell_type": "markdown",
   "metadata": {},
   "source": [
    "### test loaded data"
   ]
  },
  {
   "cell_type": "code",
   "execution_count": 10,
   "metadata": {},
   "outputs": [
    {
     "name": "stdout",
     "output_type": "stream",
     "text": [
      "<class 'pandas.core.frame.DataFrame'>\n",
      "RangeIndex: 2356 entries, 0 to 2355\n",
      "Data columns (total 17 columns):\n",
      " #   Column                      Non-Null Count  Dtype  \n",
      "---  ------                      --------------  -----  \n",
      " 0   tweet_id                    2356 non-null   int64  \n",
      " 1   in_reply_to_status_id       78 non-null     float64\n",
      " 2   in_reply_to_user_id         78 non-null     float64\n",
      " 3   timestamp                   2356 non-null   object \n",
      " 4   source                      2356 non-null   object \n",
      " 5   text                        2356 non-null   object \n",
      " 6   retweeted_status_id         181 non-null    float64\n",
      " 7   retweeted_status_user_id    181 non-null    float64\n",
      " 8   retweeted_status_timestamp  181 non-null    object \n",
      " 9   expanded_urls               2297 non-null   object \n",
      " 10  rating_numerator            2356 non-null   int64  \n",
      " 11  rating_denominator          2356 non-null   int64  \n",
      " 12  name                        2356 non-null   object \n",
      " 13  doggo                       2356 non-null   object \n",
      " 14  floofer                     2356 non-null   object \n",
      " 15  pupper                      2356 non-null   object \n",
      " 16  puppo                       2356 non-null   object \n",
      "dtypes: float64(4), int64(3), object(10)\n",
      "memory usage: 313.0+ KB\n"
     ]
    }
   ],
   "source": [
    "tweater_acrchive.info()"
   ]
  },
  {
   "cell_type": "code",
   "execution_count": 12,
   "metadata": {},
   "outputs": [
    {
     "name": "stdout",
     "output_type": "stream",
     "text": [
      "<class 'pandas.core.frame.DataFrame'>\n",
      "RangeIndex: 2075 entries, 0 to 2074\n",
      "Data columns (total 12 columns):\n",
      " #   Column    Non-Null Count  Dtype  \n",
      "---  ------    --------------  -----  \n",
      " 0   tweet_id  2075 non-null   int64  \n",
      " 1   jpg_url   2075 non-null   object \n",
      " 2   img_num   2075 non-null   int64  \n",
      " 3   p1        2075 non-null   object \n",
      " 4   p1_conf   2075 non-null   float64\n",
      " 5   p1_dog    2075 non-null   bool   \n",
      " 6   p2        2075 non-null   object \n",
      " 7   p2_conf   2075 non-null   float64\n",
      " 8   p2_dog    2075 non-null   bool   \n",
      " 9   p3        2075 non-null   object \n",
      " 10  p3_conf   2075 non-null   float64\n",
      " 11  p3_dog    2075 non-null   bool   \n",
      "dtypes: bool(3), float64(3), int64(2), object(4)\n",
      "memory usage: 152.1+ KB\n"
     ]
    }
   ],
   "source": [
    "image_predictions.info()"
   ]
  },
  {
   "cell_type": "code",
   "execution_count": 13,
   "metadata": {},
   "outputs": [
    {
     "name": "stdout",
     "output_type": "stream",
     "text": [
      "<class 'pandas.core.frame.DataFrame'>\n",
      "RangeIndex: 2354 entries, 0 to 2353\n",
      "Data columns (total 4 columns):\n",
      " #   Column          Non-Null Count  Dtype \n",
      "---  ------          --------------  ----- \n",
      " 0   tweet_id        2354 non-null   int64 \n",
      " 1   retweet_count   2354 non-null   int64 \n",
      " 2   favorite_count  2354 non-null   int64 \n",
      " 3   hashtags        2354 non-null   object\n",
      "dtypes: int64(3), object(1)\n",
      "memory usage: 73.7+ KB\n"
     ]
    }
   ],
   "source": [
    "tweeter_extra.info()"
   ]
  },
  {
   "cell_type": "markdown",
   "metadata": {},
   "source": [
    "# Assessing Data"
   ]
  },
  {
   "cell_type": "markdown",
   "metadata": {},
   "source": [
    "### check any error in rating , dog stages\n",
    "\n",
    "```\n",
    "I extracted this data programmatically, but I didn't do a very good job. The ratings probably aren't all correct. Same goes for the dog names and probably dog stages (see below for more information on these) too.\n",
    "```\n",
    "\n",
    "\n"
   ]
  },
  {
   "cell_type": "code",
   "execution_count": 90,
   "metadata": {},
   "outputs": [],
   "source": [
    "st =  tweater_acrchive.rating_numerator.astype(str) + '/' + tweater_acrchive.rating_denominator.astype(str)"
   ]
  },
  {
   "cell_type": "code",
   "execution_count": 95,
   "metadata": {},
   "outputs": [],
   "source": [
    "to = tweater_acrchive.text.str.extract(r'(\\d+\\/\\d+)')[0]"
   ]
  },
  {
   "cell_type": "code",
   "execution_count": 96,
   "metadata": {},
   "outputs": [
    {
     "data": {
      "text/plain": [
       "array([[835246439529840640, 8.35245984028504e+17, 26259576.0,\n",
       "        '2017-02-24 21:54:03 +0000',\n",
       "        '<a href=\"http://twitter.com/download/iphone\" rel=\"nofollow\">Twitter for iPhone</a>',\n",
       "        \"@jonnysun @Lin_Manuel ok jomny I know you're excited but 960/00 isn't a valid rating, 13/10 is tho\",\n",
       "        nan, nan, nan, nan, 960, 0, 'None', 'None', 'None', 'None',\n",
       "        'None'],\n",
       "       [826598799820865537, 8.265983652700078e+17, 4196983835.0,\n",
       "        '2017-02-01 01:11:25 +0000',\n",
       "        '<a href=\"http://twitter.com/download/iphone\" rel=\"nofollow\">Twitter for iPhone</a>',\n",
       "        \"I was going to do 007/10, but the joke wasn't worth the &lt;10 rating\",\n",
       "        nan, nan, nan, nan, 7, 10, 'None', 'None', 'None', 'None',\n",
       "        'None']], dtype=object)"
      ]
     },
     "execution_count": 96,
     "metadata": {},
     "output_type": "execute_result"
    }
   ],
   "source": [
    "tweater_acrchive[st!=to].values"
   ]
  },
  {
   "cell_type": "markdown",
   "metadata": {},
   "source": [
    "* `835246439529840640` ratings at end of text\n",
    "\n",
    "* `826598799820865537` is was comment , was rated in other post\n",
    "\n",
    "https://twitter.com/dog_rates/status/826598799820865537"
   ]
  },
  {
   "cell_type": "code",
   "execution_count": 100,
   "metadata": {},
   "outputs": [
    {
     "data": {
      "text/html": [
       "<div>\n",
       "<style scoped>\n",
       "    .dataframe tbody tr th:only-of-type {\n",
       "        vertical-align: middle;\n",
       "    }\n",
       "\n",
       "    .dataframe tbody tr th {\n",
       "        vertical-align: top;\n",
       "    }\n",
       "\n",
       "    .dataframe thead th {\n",
       "        text-align: right;\n",
       "    }\n",
       "</style>\n",
       "<table border=\"1\" class=\"dataframe\">\n",
       "  <thead>\n",
       "    <tr style=\"text-align: right;\">\n",
       "      <th></th>\n",
       "      <th>rating_numerator</th>\n",
       "      <th>rating_denominator</th>\n",
       "    </tr>\n",
       "  </thead>\n",
       "  <tbody>\n",
       "    <tr>\n",
       "      <th>count</th>\n",
       "      <td>2356.000000</td>\n",
       "      <td>2356.000000</td>\n",
       "    </tr>\n",
       "    <tr>\n",
       "      <th>mean</th>\n",
       "      <td>13.126486</td>\n",
       "      <td>10.455433</td>\n",
       "    </tr>\n",
       "    <tr>\n",
       "      <th>std</th>\n",
       "      <td>45.876648</td>\n",
       "      <td>6.745237</td>\n",
       "    </tr>\n",
       "    <tr>\n",
       "      <th>min</th>\n",
       "      <td>0.000000</td>\n",
       "      <td>0.000000</td>\n",
       "    </tr>\n",
       "    <tr>\n",
       "      <th>25%</th>\n",
       "      <td>10.000000</td>\n",
       "      <td>10.000000</td>\n",
       "    </tr>\n",
       "    <tr>\n",
       "      <th>50%</th>\n",
       "      <td>11.000000</td>\n",
       "      <td>10.000000</td>\n",
       "    </tr>\n",
       "    <tr>\n",
       "      <th>75%</th>\n",
       "      <td>12.000000</td>\n",
       "      <td>10.000000</td>\n",
       "    </tr>\n",
       "    <tr>\n",
       "      <th>max</th>\n",
       "      <td>1776.000000</td>\n",
       "      <td>170.000000</td>\n",
       "    </tr>\n",
       "  </tbody>\n",
       "</table>\n",
       "</div>"
      ],
      "text/plain": [
       "       rating_numerator  rating_denominator\n",
       "count       2356.000000         2356.000000\n",
       "mean          13.126486           10.455433\n",
       "std           45.876648            6.745237\n",
       "min            0.000000            0.000000\n",
       "25%           10.000000           10.000000\n",
       "50%           11.000000           10.000000\n",
       "75%           12.000000           10.000000\n",
       "max         1776.000000          170.000000"
      ]
     },
     "execution_count": 100,
     "metadata": {},
     "output_type": "execute_result"
    }
   ],
   "source": [
    "tweater_acrchive[['rating_numerator','rating_denominator']].describe()"
   ]
  },
  {
   "cell_type": "code",
   "execution_count": 122,
   "metadata": {},
   "outputs": [],
   "source": [
    "small_rate = tweater_acrchive[tweater_acrchive.rating_numerator < 10]"
   ]
  },
  {
   "cell_type": "code",
   "execution_count": 123,
   "metadata": {},
   "outputs": [
    {
     "data": {
      "text/plain": [
       "array([['This is Bella. She hopes her smile made you smile. If not, she is also offering you her favorite monkey. 13.5/10 https://t.co/qjrljjt948',\n",
       "        5, 10],\n",
       "       [\"This is Jerry. He's doing a distinguished tongue slip. Slightly patronizing tbh. You think you're better than us, Jerry? 6/10 hold me back https://t.co/DkOBbwulw1\",\n",
       "        6, 10],\n",
       "       [\"When you're so blinded by your systematic plagiarism that you forget what day it is. 0/10 https://t.co/YbEJPkg4Ag\",\n",
       "        0, 10],\n",
       "       ...,\n",
       "       ['Here is a very happy pup. Big fan of well-maintained decks. Just look at that tongue. 9/10 would cuddle af https://t.co/y671yMhoiR',\n",
       "        9, 10],\n",
       "       ['This is a western brown Mitsubishi terrier. Upset about leaf. Actually 2 dogs here. 7/10 would walk the shit out of https://t.co/r7mOb2m0UI',\n",
       "        7, 10],\n",
       "       ['Here we have a Japanese Irish Setter. Lost eye in Vietnam (?). Big fan of relaxing on stair. 8/10 would pet https://t.co/BLDqew2Ijj',\n",
       "        8, 10]], dtype=object)"
      ]
     },
     "execution_count": 123,
     "metadata": {},
     "output_type": "execute_result"
    }
   ],
   "source": [
    "small_rate[['text','rating_numerator','rating_denominator']].values"
   ]
  },
  {
   "cell_type": "markdown",
   "metadata": {},
   "source": [
    "* rating with fraction has mistakes"
   ]
  },
  {
   "cell_type": "code",
   "execution_count": 126,
   "metadata": {},
   "outputs": [
    {
     "data": {
      "text/plain": [
       "array([[835246439529840640,\n",
       "        \"@jonnysun @Lin_Manuel ok jomny I know you're excited but 960/00 isn't a valid rating, 13/10 is tho\",\n",
       "        960, 0],\n",
       "       [810984652412424192,\n",
       "        'Meet Sam. She smiles 24/7 &amp; secretly aspires to be a reindeer. \\nKeep Sam smiling by clicking and sharing this link:\\nhttps://t.co/98tB8y7y7t https://t.co/LouL5vdvxx',\n",
       "        24, 7],\n",
       "       [666287406224695296,\n",
       "        'This is an Albanian 3 1/2 legged  Episcopalian. Loves well-polished hardwood flooring. Penis on the collar. 9/10 https://t.co/d9NcXFKwLv',\n",
       "        1, 2]], dtype=object)"
      ]
     },
     "execution_count": 126,
     "metadata": {},
     "output_type": "execute_result"
    }
   ],
   "source": [
    "small_dem = tweater_acrchive[tweater_acrchive.rating_denominator < 10]\n",
    "small_dem[['tweet_id','text','rating_numerator','rating_denominator']].values"
   ]
  },
  {
   "cell_type": "markdown",
   "metadata": {},
   "source": [
    "* 810984652412424192 not rating \n",
    "* 666287406224695296 rating at the end"
   ]
  },
  {
   "cell_type": "code",
   "execution_count": 132,
   "metadata": {},
   "outputs": [
    {
     "data": {
      "text/plain": [
       "array([[855862651834028034,\n",
       "        '@dhmontgomery We also gave snoop dogg a 420/10 but I think that predated your research',\n",
       "        420, 10],\n",
       "       [855860136149123072,\n",
       "        '@s8n You tried very hard to portray this good boy as not so good, but you have ultimately failed. His goodness shines through. 666/10',\n",
       "        666, 10],\n",
       "       [838150277551247360, '@markhoppus 182/10', 182, 10],\n",
       "       [835246439529840640,\n",
       "        \"@jonnysun @Lin_Manuel ok jomny I know you're excited but 960/00 isn't a valid rating, 13/10 is tho\",\n",
       "        960, 0],\n",
       "       [832215909146226688,\n",
       "        \"RT @dog_rates: This is Logan, the Chow who lived. He solemnly swears he's up to lots of good. H*ckin magical af 9.75/10 https://t.co/yBO5wu…\",\n",
       "        75, 10],\n",
       "       [820690176645140481,\n",
       "        'The floofs have been released I repeat the floofs have been released. 84/70 https://t.co/NIYC820tmd',\n",
       "        84, 70],\n",
       "       [810984652412424192,\n",
       "        'Meet Sam. She smiles 24/7 &amp; secretly aspires to be a reindeer. \\nKeep Sam smiling by clicking and sharing this link:\\nhttps://t.co/98tB8y7y7t https://t.co/LouL5vdvxx',\n",
       "        24, 7],\n",
       "       [786709082849828864,\n",
       "        \"This is Logan, the Chow who lived. He solemnly swears he's up to lots of good. H*ckin magical af 9.75/10 https://t.co/yBO5wuqaPS\",\n",
       "        75, 10],\n",
       "       [778027034220126208,\n",
       "        \"This is Sophie. She's a Jubilant Bush Pupper. Super h*ckin rare. Appears at random just to smile at the locals. 11.27/10 would smile back https://t.co/QFaUiIHxHq\",\n",
       "        27, 10],\n",
       "       [758467244762497024,\n",
       "        'Why does this never happen at my front door... 165/150 https://t.co/HmwrdfEfUE',\n",
       "        165, 150],\n",
       "       [749981277374128128,\n",
       "        \"This is Atticus. He's quite simply America af. 1776/10 https://t.co/GRXwMxLBkh\",\n",
       "        1776, 10],\n",
       "       [731156023742988288,\n",
       "        'Say hello to this unbelievably well behaved squad of doggos. 204/170 would try to pet all at once https://t.co/yGQI3He3xv',\n",
       "        204, 170],\n",
       "       [716439118184652801,\n",
       "        'This is Bluebert. He just saw that both #FinalFur match ups are split 50/50. Amazed af. 11/10 https://t.co/Kky1DPG4iq',\n",
       "        50, 50],\n",
       "       [713900603437621249,\n",
       "        \"Happy Saturday here's 9 puppers on a bench. 99/90 good work everybody https://t.co/mpvaVxKmc1\",\n",
       "        99, 90],\n",
       "       [710658690886586372,\n",
       "        \"Here's a brigade of puppers. All look very prepared for whatever happens next. 80/80 https://t.co/0eb7R1Om12\",\n",
       "        80, 80],\n",
       "       [709198395643068416,\n",
       "        'From left to right:\\nCletus, Jerome, Alejandro, Burp, &amp; Titson\\nNone know where camera is. 45/50 would hug all at once https://t.co/sedre1ivTK',\n",
       "        45, 50],\n",
       "       [704054845121142784,\n",
       "        \"Here is a whole flock of puppers.  60/50 I'll take the lot https://t.co/9dpcw6MdWa\",\n",
       "        60, 50],\n",
       "       [697463031882764288,\n",
       "        \"Happy Wednesday here's a bucket of pups. 44/40 would pet all at once https://t.co/HppvrYuamZ\",\n",
       "        44, 40],\n",
       "       [684225744407494656,\n",
       "        'Two sneaky puppers were not initially seen, moving the rating to 143/130. Please forgive us. Thank you https://t.co/kRK51Y5ac3',\n",
       "        143, 130],\n",
       "       [684222868335505415,\n",
       "        'Someone help the girl is being mugged. Several are distracting her while two steal her shoes. Clever puppers 121/110 https://t.co/1zfnTJLt55',\n",
       "        121, 110],\n",
       "       [680494726643068929,\n",
       "        'Here we have uncovered an entire battalion of holiday puppers. Average of 11.26/10 https://t.co/eNm2S6p9BD',\n",
       "        26, 10],\n",
       "       [677716515794329600,\n",
       "        \"IT'S PUPPERGEDDON. Total of 144/120 ...I think https://t.co/ZanVtAtvIq\",\n",
       "        144, 120],\n",
       "       [675853064436391936,\n",
       "        'Here we have an entire platoon of puppers. Total score: 88/80 would pet all at once https://t.co/y93p6FLvVw',\n",
       "        88, 80],\n",
       "       [670842764863651840,\n",
       "        'After so many requests... here you go.\\n\\nGood dogg. 420/10 https://t.co/yfAAo1gdeY',\n",
       "        420, 10]], dtype=object)"
      ]
     },
     "execution_count": 132,
     "metadata": {},
     "output_type": "execute_result"
    }
   ],
   "source": [
    "##  already reported\n",
    "big_dem = tweater_acrchive[tweater_acrchive.rating_numerator > 20]\n",
    "big_dem[['tweet_id','text','rating_numerator','rating_denominator']].values"
   ]
  },
  {
   "cell_type": "markdown",
   "metadata": {},
   "source": [
    "### messy\n",
    "- tweet extra\n",
    "- wrong dtypes\n",
    "    * tweater_archive: timestamp,retweeted_status_timestamp\n",
    "- dog type in coulmn name (doggo  floofer pupper puppo)\n",
    "\n",
    "### dirty\n",
    "* tweater_archive\n",
    "    - compex values in source coloumn \n",
    "    - tweat `[826598799820865537 , 810984652412424192 ]` is not rating tweete\n",
    "    - rating with fraction has mistakes _ex.. `9.5/10` is saved as `5/10`_\n",
    "    - tweets with rating at the end\n",
    "    ex..` [835246439529840640, 666287406224695296] `"
   ]
  },
  {
   "cell_type": "code",
   "execution_count": 16,
   "metadata": {},
   "outputs": [
    {
     "name": "stdout",
     "output_type": "stream",
     "text": [
      "<class 'pandas.core.frame.DataFrame'>\n",
      "RangeIndex: 2356 entries, 0 to 2355\n",
      "Data columns (total 17 columns):\n",
      " #   Column                      Non-Null Count  Dtype  \n",
      "---  ------                      --------------  -----  \n",
      " 0   tweet_id                    2356 non-null   int64  \n",
      " 1   in_reply_to_status_id       78 non-null     float64\n",
      " 2   in_reply_to_user_id         78 non-null     float64\n",
      " 3   timestamp                   2356 non-null   object \n",
      " 4   source                      2356 non-null   object \n",
      " 5   text                        2356 non-null   object \n",
      " 6   retweeted_status_id         181 non-null    float64\n",
      " 7   retweeted_status_user_id    181 non-null    float64\n",
      " 8   retweeted_status_timestamp  181 non-null    object \n",
      " 9   expanded_urls               2297 non-null   object \n",
      " 10  rating_numerator            2356 non-null   int64  \n",
      " 11  rating_denominator          2356 non-null   int64  \n",
      " 12  name                        2356 non-null   object \n",
      " 13  doggo                       2356 non-null   object \n",
      " 14  floofer                     2356 non-null   object \n",
      " 15  pupper                      2356 non-null   object \n",
      " 16  puppo                       2356 non-null   object \n",
      "dtypes: float64(4), int64(3), object(10)\n",
      "memory usage: 313.0+ KB\n"
     ]
    }
   ],
   "source": [
    "tweater_acrchive.info()"
   ]
  }
 ],
 "metadata": {
  "kernelspec": {
   "display_name": "Python 3",
   "language": "python",
   "name": "python3"
  },
  "language_info": {
   "codemirror_mode": {
    "name": "ipython",
    "version": 3
   },
   "file_extension": ".py",
   "mimetype": "text/x-python",
   "name": "python",
   "nbconvert_exporter": "python",
   "pygments_lexer": "ipython3",
   "version": "3.8.3"
  }
 },
 "nbformat": 4,
 "nbformat_minor": 4
}
